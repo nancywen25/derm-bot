{
 "cells": [
  {
   "cell_type": "code",
   "execution_count": 25,
   "metadata": {},
   "outputs": [],
   "source": [
    "import random\n",
    "import numpy as np\n",
    "import pandas as pd\n",
    "import os\n",
    "\n",
    "import cv2\n",
    "import matplotlib.pyplot as plt\n",
    "\n",
    "from sklearn.neighbors import KNeighborsClassifier\n",
    "from sklearn.naive_bayes import GaussianNB\n",
    "from sklearn.svm import SVC\n",
    "from sklearn.model_selection import train_test_split, StratifiedKFold\n",
    "from sklearn.metrics import roc_auc_score, accuracy_score, confusion_matrix"
   ]
  },
  {
   "cell_type": "markdown",
   "metadata": {},
   "source": [
    "### Train a KNN Model"
   ]
  },
  {
   "cell_type": "code",
   "execution_count": 2,
   "metadata": {},
   "outputs": [],
   "source": [
    "# store the path to the directories with preprocessed png images\n",
    "train_dir = '../input/siic-isic-224x224-images/train/'\n",
    "test_dir = '../input/siic-isic-224x224-images/test/'\n",
    "\n",
    "# load csv files with image name and metadata\n",
    "train_df = pd.read_csv('../input/siim-isic-melanoma-classification/train.csv')\n",
    "test_df = pd.read_csv('../input/siim-isic-melanoma-classification/test.csv')\n",
    "\n",
    "batch_size = 64\n",
    "img_size = (224, 224)\n",
    "\n",
    "def image_to_feature_vector(image, size=img_size):\n",
    "    # flatten image into an array\n",
    "    return cv2.resize(image, size).flatten()\n",
    "\n",
    "def extract_color_histogram(image, bins=(8, 8, 8)):\n",
    "    # 8 bins for each hue, saturation, and value channels\n",
    "    image = cv2.cvtColor(image, cv2.COLOR_BGR2RGB) # reorder colors\n",
    "    hsv = cv2.cvtColor(image, cv2.COLOR_BGR2HSV)\n",
    "    hist = cv2.calcHist([hsv], [0, 1, 2], None, bins, [0, 180, 0, 256, 0, 256])\n",
    "    \n",
    "    cv2.normalize(hist, hist)\n",
    "    return hist.flatten()"
   ]
  },
  {
   "cell_type": "code",
   "execution_count": 3,
   "metadata": {},
   "outputs": [
    {
     "name": "stdout",
     "output_type": "stream",
     "text": [
      "CPU times: user 34.5 s, sys: 2.27 s, total: 36.8 s\n",
      "Wall time: 36.9 s\n"
     ]
    }
   ],
   "source": [
    "%%time\n",
    "\n",
    "features = []\n",
    "histograms = []\n",
    "labels = []\n",
    "\n",
    "for img_name, label in zip(train_df['image_name'], train_df['target']):\n",
    "    \n",
    "    img_path = train_dir + img_name + '.png'\n",
    "    image = cv2.imread(img_path)\n",
    "    image = image_to_feature_vector(image, size=(32, 32))  # reduce image from (224, 224) to (32, 32)\n",
    "    hist = extract_color_histogram(image)\n",
    "    features.append(image)\n",
    "    histograms.append(hist)\n",
    "    labels.append(label)"
   ]
  },
  {
   "cell_type": "code",
   "execution_count": 38,
   "metadata": {},
   "outputs": [],
   "source": [
    "features = np.array(features)\n",
    "histograms = np.array(histograms)\n",
    "labels = np.array(labels)\n",
    "\n",
    "X_train, X_val, y_train, y_val = train_test_split(features, labels, \n",
    "                                                  test_size=0.25, random_state=0)"
   ]
  },
  {
   "cell_type": "code",
   "execution_count": 5,
   "metadata": {},
   "outputs": [
    {
     "data": {
      "text/plain": [
       "(33126, 3072)"
      ]
     },
     "execution_count": 5,
     "metadata": {},
     "output_type": "execute_result"
    }
   ],
   "source": [
    "features.shape  # 150528 = 224 * 224 * 3"
   ]
  },
  {
   "cell_type": "code",
   "execution_count": 6,
   "metadata": {},
   "outputs": [
    {
     "name": "stdout",
     "output_type": "stream",
     "text": [
      "[INFO] pixels matrix: 99.38MB\n",
      "[INFO] features matrix: 66.25MB\n"
     ]
    }
   ],
   "source": [
    "print(\"[INFO] pixels matrix: {:.2f}MB\".format(\n",
    "    features.nbytes / (1024 * 1000.0)))\n",
    "print(\"[INFO] features matrix: {:.2f}MB\".format(\n",
    "    histograms.nbytes / (1024 * 1000.0)))"
   ]
  },
  {
   "cell_type": "code",
   "execution_count": 39,
   "metadata": {},
   "outputs": [
    {
     "name": "stdout",
     "output_type": "stream",
     "text": [
      "Accuracy:  0.6747162521130162\n",
      "ROC Score:  0.7286751464634165\n",
      "CPU times: user 1.22 s, sys: 731 ms, total: 1.95 s\n",
      "Wall time: 1.96 s\n"
     ]
    }
   ],
   "source": [
    "%%time\n",
    "\n",
    "# model = KNeighborsClassifier(n_jobs=-1) # use all cores\n",
    "model = GaussianNB()\n",
    "model.fit(X_train, y_train)\n",
    "\n",
    "y_pred = model.predict(X_val)\n",
    "y_prob = model.predict_proba(X_val)\n",
    "\n",
    "acc = accuracy_score(y_val, y_pred)\n",
    "print(\"Accuracy: \", acc)\n",
    "\n",
    "roc = roc_auc_score(y_val, y_prob[:, 1])\n",
    "print(\"ROC Score: \", roc)"
   ]
  },
  {
   "cell_type": "markdown",
   "metadata": {},
   "source": [
    "### Performance of a Random Model"
   ]
  },
  {
   "cell_type": "code",
   "execution_count": 8,
   "metadata": {},
   "outputs": [
    {
     "name": "stdout",
     "output_type": "stream",
     "text": [
      "Accuracy:  0.5002414875633905\n",
      "ROC Score:  0.5277459905308846\n"
     ]
    }
   ],
   "source": [
    "y_random = [1 if random.random() <= 0.5 else 0 for x in X_val]\n",
    "\n",
    "acc = accuracy_score(y_val, y_random)\n",
    "print(\"Accuracy: \", acc)\n",
    "\n",
    "roc = roc_auc_score(y_val, y_random)\n",
    "print(\"ROC Score: \", roc)"
   ]
  },
  {
   "cell_type": "markdown",
   "metadata": {},
   "source": [
    "### Use color histograms instead of raw pixels of each image"
   ]
  },
  {
   "cell_type": "code",
   "execution_count": 42,
   "metadata": {},
   "outputs": [
    {
     "name": "stdout",
     "output_type": "stream",
     "text": [
      "Accuracy:  0.9221202608065685\n",
      "ROC Score:  0.7326713803194544\n",
      "CPU times: user 160 ms, sys: 34.5 ms, total: 195 ms\n",
      "Wall time: 195 ms\n"
     ]
    }
   ],
   "source": [
    "%%time\n",
    "\n",
    "X_train, X_val, y_train, y_val = train_test_split(histograms, labels, \n",
    "                                                  test_size=0.25, random_state=0)\n",
    "model = GaussianNB()\n",
    "model.fit(X_train, y_train)\n",
    "\n",
    "y_pred = model.predict(X_val)\n",
    "y_prob = model.predict_proba(X_val)\n",
    "\n",
    "acc = accuracy_score(y_val, y_pred)\n",
    "print(\"Accuracy: \", acc)\n",
    "\n",
    "roc = roc_auc_score(y_val, y_prob[:, 1])\n",
    "print(\"ROC Score: \", roc)  # 0.7-0.8 = acceptable discrimination"
   ]
  },
  {
   "cell_type": "markdown",
   "metadata": {},
   "source": [
    "Hosmer & Lemeshow (2013). Applied logistic regression. p.177:\n",
    "\"So, what area under the ROC curve describes good discrimination? Unfortunately there is no \"magic\" number, only general guidelines. In general, we use the following rule of thumb:\n",
    "\n",
    "- 0.5 = This suggests no discrimination, so we might as well flip a coin.\n",
    "- 0.5-0.7 = We consider this poor discrimination, not much better than a coin toss.\n",
    "- 0.7-0.8 = Acceptable discrimination\n",
    "- 0.8-0.9= Excellent discrimination\n",
    "- 0.9 = Outstanding discrimination\"\n",
    "\n",
    "In medical diagnosis, very high AUCs (0.95 or higher are sought)"
   ]
  },
  {
   "cell_type": "markdown",
   "metadata": {},
   "source": [
    "### Try Hyperparameter Tuning"
   ]
  },
  {
   "cell_type": "code",
   "execution_count": null,
   "metadata": {},
   "outputs": [],
   "source": [
    "%%time\n",
    "\n",
    "X_train, X_val, y_train, y_val = train_test_split(histograms, labels, \n",
    "                                                  test_size=0.25, random_state=0)\n",
    "model = GaussianNB()\n",
    "\n",
    "grid = RandomizedSearchCV(model, params)\n",
    "grid.fit(X_train, y_train)\n",
    "\n",
    "y_pred = model.predict(X_val)\n",
    "y_prob = model.predict_proba(X_val)\n",
    "\n",
    "acc = accuracy_score(y_val, y_pred)\n",
    "print(\"Accuracy: \", acc)\n",
    "\n",
    "roc = roc_auc_score(y_val, y_prob[:, 1])\n",
    "print(\"ROC Score: \", roc)"
   ]
  }
 ],
 "metadata": {
  "kernelspec": {
   "display_name": "Python 3",
   "language": "python",
   "name": "python3"
  },
  "language_info": {
   "codemirror_mode": {
    "name": "ipython",
    "version": 3
   },
   "file_extension": ".py",
   "mimetype": "text/x-python",
   "name": "python",
   "nbconvert_exporter": "python",
   "pygments_lexer": "ipython3",
   "version": "3.8.6"
  }
 },
 "nbformat": 4,
 "nbformat_minor": 4
}
