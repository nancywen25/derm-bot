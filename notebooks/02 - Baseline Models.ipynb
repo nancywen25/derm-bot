{
 "cells": [
  {
   "cell_type": "markdown",
   "metadata": {},
   "source": [
    "### Train a KNN Model"
   ]
  },
  {
   "cell_type": "code",
   "execution_count": 7,
   "metadata": {},
   "outputs": [],
   "source": [
    "import random\n",
    "import numpy as np\n",
    "import pandas as pd\n",
    "import os\n",
    "\n",
    "import cv2\n",
    "import matplotlib.pyplot as plt\n",
    "\n",
    "from sklearn.neighbors import KNeighborsClassifier\n",
    "from sklearn.model_selection import train_test_split, StratifiedKFold\n",
    "from sklearn.metrics import roc_auc_score"
   ]
  },
  {
   "cell_type": "code",
   "execution_count": 8,
   "metadata": {},
   "outputs": [],
   "source": [
    "# store the path to the directories with preprocessed png images\n",
    "train_dir = '../input/siic-isic-224x224-images/train/'\n",
    "test_dir = '../input/siic-isic-224x224-images/test/'\n",
    "\n",
    "# load csv files with image name and metadata\n",
    "train_df = pd.read_csv('../input/siim-isic-melanoma-classification/train.csv')\n",
    "test_df = pd.read_csv('../input/siim-isic-melanoma-classification/test.csv')\n",
    "\n",
    "batch_size = 64\n",
    "img_size = (224, 224)\n",
    "\n",
    "def image_to_feature_vector(image, size=img_size):\n",
    "    # flatten image into an array\n",
    "    return cv2.resize(image, size).flatten()\n",
    "\n",
    "def extract_color_histogram(image, bins=(8, 8, 8)):\n",
    "    # 8 bins for each hue, saturation, and value channels\n",
    "    hsv = cv2.cvtColor(image, cv2.COLOR_BGR2HSV)\n",
    "    hist = cv2.calcHist([hsv], [0, 1, 2], None, bins, [0, 180, 0, 256, 0, 256])\n",
    "    \n",
    "    cv2.normalize(hist, hist)\n",
    "    return hist.flatten()"
   ]
  },
  {
   "cell_type": "code",
   "execution_count": 9,
   "metadata": {},
   "outputs": [],
   "source": [
    "features = []\n",
    "labels = []\n",
    "\n",
    "for img_name, label in zip(train_df['image_name'], train_df['target']):\n",
    "    \n",
    "    img_path = train_dir + img_name + '.png'\n",
    "    image = cv2.imread(img_path)\n",
    "    image = image_to_feature_vector(image)\n",
    "    features.append(image)\n",
    "    labels.append(label)\n",
    "    \n",
    "features = np.array(features)\n",
    "labels = np.array(labels)"
   ]
  },
  {
   "cell_type": "code",
   "execution_count": 10,
   "metadata": {},
   "outputs": [
    {
     "data": {
      "text/plain": [
       "(33126, 150528)"
      ]
     },
     "execution_count": 10,
     "metadata": {},
     "output_type": "execute_result"
    }
   ],
   "source": [
    "features.shape  # 150528 = 224 * 224 * 3"
   ]
  },
  {
   "cell_type": "code",
   "execution_count": null,
   "metadata": {},
   "outputs": [],
   "source": [
    "X_train, X_val, y_train, y_val = train_test_split(features, labels, \n",
    "                                                  test_size=0.25, random_state=0)\n",
    "model = KNeighborsClassifier()\n",
    "model.fit(X_train, y_train)\n",
    "\n",
    "acc = model.score(X_val, y_val)\n",
    "print(acc)\n",
    "\n",
    "y_pred = model.predict(X_val)\n",
    "roc = roc_auc_score(y_val, y_pred)\n",
    "print(roc)"
   ]
  },
  {
   "cell_type": "markdown",
   "metadata": {},
   "source": [
    "### Performance of a Random Model"
   ]
  },
  {
   "cell_type": "code",
   "execution_count": null,
   "metadata": {},
   "outputs": [],
   "source": [
    "y_train.value_counts()\n",
    "\n"
   ]
  }
 ],
 "metadata": {
  "kernelspec": {
   "display_name": "Python 3",
   "language": "python",
   "name": "python3"
  },
  "language_info": {
   "codemirror_mode": {
    "name": "ipython",
    "version": 3
   },
   "file_extension": ".py",
   "mimetype": "text/x-python",
   "name": "python",
   "nbconvert_exporter": "python",
   "pygments_lexer": "ipython3",
   "version": "3.8.6"
  }
 },
 "nbformat": 4,
 "nbformat_minor": 4
}
